{
  "cells": [
    {
      "cell_type": "markdown",
      "metadata": {
        "id": "9GVG9Ukq60rF"
      },
      "source": [
        "## Implementation of Hybrid ESN for Lorenz 96"
      ]
    },
    {
      "cell_type": "code",
      "execution_count": null,
      "metadata": {
        "id": "JTgzE0fg60rG"
      },
      "outputs": [],
      "source": [
        "import pandas as pd\n",
        "import numpy as np\n",
        "from sklearn.model_selection import GridSearchCV\n"
      ]
    },
    {
      "cell_type": "markdown",
      "metadata": {
        "id": "Yy3rTEv460rG"
      },
      "source": [
        "### Data Generation and Noising"
      ]
    },
    {
      "cell_type": "code",
      "execution_count": null,
      "metadata": {
        "id": "O3vIG1i860rG"
      },
      "outputs": [],
      "source": []
    },
    {
      "cell_type": "markdown",
      "metadata": {
        "id": "I072A3Dd60rG"
      },
      "source": [
        "### Ensemble Kalman Filtering"
      ]
    },
    {
      "cell_type": "code",
      "execution_count": null,
      "metadata": {
        "id": "kVcokRtN60rG"
      },
      "outputs": [],
      "source": [
        "class EnKF:\n",
        "    def __init__(self, ensemble, forecast_func, H, R):\n",
        "        \"\"\"\n",
        "        Ensemble Kalman Filter implementation based on a forecast model.\n",
        "\n",
        "        Parameters:\n",
        "        - ensemble: numpy array of shape (N_ens, state_dim)\n",
        "        - forecast_func: function to forecast next state (applied to each ensemble member)\n",
        "        - H: observation matrix (obs_dim x state_dim)\n",
        "        - R: observation noise covariance (obs_dim x obs_dim)\n",
        "        \"\"\"\n",
        "        self.ensemble = ensemble\n",
        "        self.forecast_func = forecast_func\n",
        "        self.H = H\n",
        "        self.R = R\n",
        "        self.xEnKF = []\n",
        "        self.x_ens = []\n",
        "\n",
        "    def predict(self):\n",
        "        \"\"\"\n",
        "        Propagates each ensemble member forward one step using the forecast function.\n",
        "\n",
        "        Parameters:\n",
        "        - None\n",
        "\n",
        "        Returns:\n",
        "        - None (updates self.ensemble in place)\n",
        "        \"\"\"\n",
        "        for i in range(len(self.ensemble)):\n",
        "            self.ensemble[i] = self.forecast_func(self.ensemble[i])\n",
        "\n",
        "    def update(self, observation):\n",
        "        \"\"\"\n",
        "        Applies the Kalman filter update step using the current observation.\n",
        "\n",
        "        Parameters:\n",
        "        - observation: numpy array of shape (obs_dim,), the current observed value\n",
        "\n",
        "        Returns:\n",
        "        - None (updates self.ensemble in place, and stores the ensemble mean and members)\n",
        "        \"\"\"\n",
        "        N = len(self.ensemble)\n",
        "        X = np.array(self.ensemble).T  # shape: (state_dim, N)\n",
        "        x_mean = np.mean(X, axis=1, keepdims=True)\n",
        "        X_prime = X - x_mean\n",
        "\n",
        "        # Observation space\n",
        "        HX = self.H @ X\n",
        "        y_mean = np.mean(HX, axis=1, keepdims=True)\n",
        "        Y_prime = HX - y_mean\n",
        "\n",
        "        # Kalman gain\n",
        "        P_xy = X_prime @ Y_prime.T / (N - 1)\n",
        "        P_yy = Y_prime @ Y_prime.T / (N - 1) + self.R\n",
        "        K = P_xy @ np.linalg.inv(P_yy)\n",
        "\n",
        "        # Update ensemble\n",
        "        for i in range(N):\n",
        "            perturb = np.random.multivariate_normal(np.zeros(self.R.shape[0]), self.R)\n",
        "            innovation = observation + perturb - HX[:, i]\n",
        "            X[:, i] = X[:, i] + K @ innovation\n",
        "\n",
        "        self.ensemble = X.T\n",
        "        self.xEnKF.append(np.mean(self.ensemble, axis=0))\n",
        "        self.x_ens.append(np.copy(self.ensemble))\n",
        "\n",
        "    def get_results(self):\n",
        "        \"\"\"\n",
        "        Retrieves the stored ensemble mean trajectory and full ensemble trajectories.\n",
        "\n",
        "        Parameters:\n",
        "        - None\n",
        "\n",
        "        Returns:\n",
        "        - xEnKF: numpy array of shape (timesteps, state_dim), ensemble mean at each timestep\n",
        "        - x_ens: numpy array of shape (timesteps, N_ens, state_dim), ensemble members at each timestep\n",
        "        \"\"\"\n",
        "        return np.array(self.xEnKF), np.array(self.x_ens)"
      ]
    },
    {
      "cell_type": "markdown",
      "metadata": {
        "id": "aM5gNmw460rG"
      },
      "source": [
        "### Hybrid ESN"
      ]
    },
    {
      "cell_type": "markdown",
      "metadata": {
        "id": "pUnv1f5q60rG"
      },
      "source": [
        "We have 3 tests:\n",
        "- Imperfect Model \n",
        "- Reservoir w/ EnKF\n",
        "- Hybrid w/ EnKF"
      ]
    },
    {
      "cell_type": "code",
      "execution_count": null,
      "metadata": {
        "id": "-TjUJjy260rG"
      },
      "outputs": [],
      "source": []
    },
    {
      "cell_type": "code",
      "execution_count": null,
      "metadata": {},
      "outputs": [],
      "source": []
    },
    {
      "cell_type": "markdown",
      "metadata": {
        "id": "3ud8bFcv60rH"
      },
      "source": [
        "### Evaluation Metrics"
      ]
    },
    {
      "cell_type": "code",
      "execution_count": null,
      "metadata": {
        "id": "J1BlAnMM60rH"
      },
      "outputs": [],
      "source": []
    }
  ],
  "metadata": {
    "colab": {
      "provenance": []
    },
    "kernelspec": {
      "display_name": "Python 3",
      "language": "python",
      "name": "python3"
    },
    "language_info": {
      "name": "python",
      "version": "3.13.3"
    }
  },
<<<<<<< HEAD
  "nbformat": 4,
  "nbformat_minor": 0
=======
  {
   "cell_type": "markdown",
   "metadata": {},
   "source": [
    "### Libraries"
   ]
  },
  {
   "cell_type": "code",
   "execution_count": null,
   "metadata": {},
   "outputs": [],
   "source": [
    "# === Libraries ===\n",
    "import numpy as np\n",
    "import pandas as pd\n",
    "import torch\n",
    "from torchesn.nn import ESN\n",
    "from torchesn.nn import Reservoir\n",
    "from torchesn.utils import prepare_target\n",
    "import matplotlib.pyplot as plt\n",
    "from tqdm import tqdm\n",
    "from scipy.stats import linregress\n",
    "import scipy.sparse as sparse\n",
    "from pathlib import Path"
   ]
  },
  {
   "cell_type": "markdown",
   "metadata": {},
   "source": [
    "### Data "
   ]
  },
  {
   "cell_type": "code",
   "execution_count": null,
   "metadata": {},
   "outputs": [],
   "source": [
    "# data = np.load('./data/truth_h_0.5_c_8_F_20.npy')"
   ]
  },
  {
   "cell_type": "code",
   "execution_count": null,
   "metadata": {},
   "outputs": [],
   "source": [
    "X_data = np.load('./data/truth_h_0.5_c_8_F_20.npy')[:, :8]"
   ]
  },
  {
   "cell_type": "code",
   "execution_count": null,
   "metadata": {},
   "outputs": [],
   "source": [
    "data = X_data.T"
   ]
  },
  {
   "cell_type": "code",
   "execution_count": null,
   "metadata": {},
   "outputs": [],
   "source": [
    "# Slice 1000 steps (≈ 22 Lyapunov times)\n",
    "steps = 1000\n",
    "X_plot = X_data[:steps].T  # shape: (8, steps)\n",
    "\n",
    "# Create plot axes\n",
    "time_axis = np.linspace(0, 9, steps)\n",
    "space_axis = np.arange(8)\n",
    "\n",
    "# Plot contour\n",
    "fig, ax = plt.subplots(figsize=(14, 3))\n",
    "contour = ax.contourf(time_axis, space_axis, X_plot, levels=50, cmap='bwr', vmin=-2.5, vmax=2.5)\n",
    "\n",
    "# Labels\n",
    "ax.set_title(\"Spatiotemporal Contour of $X_{true}$ (~9 Lyapunov Times)\", fontsize=14)\n",
    "ax.set_xlabel(\"Timesteps\", fontsize=12)\n",
    "ax.set_ylabel(\"X\", fontsize=12)\n",
    "ax.set_yticks(np.arange(8))\n",
    "ax.set_yticklabels([f\"$X_{i}$\" for i in range(8)])\n",
    "\n",
    "# Colorbar with custom ticks\n",
    "cbar = fig.colorbar(contour, ax=ax)\n",
    "cbar.set_label(\"$X_{true}$\", fontsize=12)\n",
    "cbar.set_ticks([-2, 0, 2])\n",
    "\n",
    "plt.tight_layout()\n",
    "plt.show()\n"
   ]
  },
  {
   "cell_type": "markdown",
   "metadata": {},
   "source": [
    "### ESN"
   ]
  },
  {
   "cell_type": "code",
   "execution_count": null,
   "metadata": {},
   "outputs": [],
   "source": [
    "shift_k = 0\n",
    "\n",
    "approx_res_size = 5000\n",
    "\n",
    "\n",
    "model_params = {'tau': 0.25,\n",
    "                'nstep': 1000,\n",
    "                'N': 8,\n",
    "                'd': 22}\n",
    "\n",
    "res_params = {'radius':0.1,\n",
    "             'degree': 3,\n",
    "             'sigma': 0.5,\n",
    "             'train_length': 500000,\n",
    "             'N': int(np.floor(approx_res_size/model_params['N']) * model_params['N']),\n",
    "             'num_inputs': model_params['N'],\n",
    "             'predict_length': 10000,\n",
    "             'beta': 0.0001\n",
    "              }\n",
    "\n",
    "# The ESN functions for training\n",
    "def generate_reservoir(size,radius,degree):\n",
    "    sparsity = degree/float(size)\n",
    "    A = sparse.rand(size,size,density=sparsity).todense()\n",
    "    vals = np.linalg.eigvals(A)\n",
    "    e = np.max(np.abs(vals))\n",
    "    A = (A/e) * radius\n",
    "    return A\n",
    "\n",
    "def reservoir_layer(A, Win, input, res_params):\n",
    "    states = np.zeros((res_params['N'],res_params['train_length']))\n",
    "    for i in tqdm(range(res_params['train_length'] - 1), desc=\"Reservoir states\"):\n",
    "        states[:,i+1] = np.tanh(np.dot(A,states[:,i]) + np.dot(Win,input[:,i]))\n",
    "    return states\n",
    "\n",
    "\n",
    "def train_reservoir(res_params, data, save_path=None):\n",
    "    A = generate_reservoir(res_params['N'], res_params['radius'], res_params['degree'])\n",
    "    q = int(res_params['N'] / res_params['num_inputs'])\n",
    "    Win = np.zeros((res_params['N'], res_params['num_inputs']))\n",
    "\n",
    "    for i in range(res_params['num_inputs']):\n",
    "        np.random.seed(seed=i)\n",
    "        Win[i*q:(i+1)*q, i] = res_params['sigma'] * (-1 + 2 * np.random.rand(1, q)[0])\n",
    "\n",
    "    states = reservoir_layer(A, Win, data, res_params)\n",
    "    Wout = train(res_params, states, data)\n",
    "    x = states[:, -1]\n",
    "\n",
    "    if save_path:\n",
    "        save_esn_weights(A, Win, Wout, save_path)\n",
    "\n",
    "    return x, Wout, A, Win\n",
    "\n",
    "def train(res_params,states,data):\n",
    "    beta = res_params['beta']\n",
    "    idenmat = beta * sparse.identity(res_params['N'])\n",
    "    states2 = states.copy()\n",
    "    for j in range(2,np.shape(states2)[0]-2):\n",
    "        if (np.mod(j,2)==0):\n",
    "            states2[j,:] = (states[j-1,:]*states[j-2,:]).copy()\n",
    "    U = np.dot(states2,states2.transpose()) + idenmat\n",
    "    Uinv = np.linalg.inv(U)\n",
    "    Wout = np.dot(Uinv,np.dot(states2,data.transpose()))\n",
    "    return Wout.transpose()\n",
    "\n",
    "def predict(A, Win, res_params, x, Wout):\n",
    "    output = np.zeros((res_params['num_inputs'],res_params['predict_length']))\n",
    "    for i in range(res_params['predict_length']):\n",
    "        x_aug = x.copy()\n",
    "        for j in range(2,np.shape(x_aug)[0]-2):\n",
    "            if (np.mod(j,2)==0):\n",
    "                x_aug[j] = (x[j-1]*x[j-2]).copy()\n",
    "        out = np.squeeze(np.asarray(np.dot(Wout,x_aug)))\n",
    "        output[:,i] = out\n",
    "        x1 = np.tanh(np.dot(A,x) + np.dot(Win,out))\n",
    "        x = np.squeeze(np.asarray(x1))\n",
    "    return output, x\n",
    "\n",
    "def save_esn_weights(A, Win, Wout, path=\"trained_esn.pt\"):\n",
    "    weights = {\n",
    "        'A': torch.tensor(A, dtype=torch.float32),\n",
    "        'Win': torch.tensor(Win, dtype=torch.float32),\n",
    "        'Wout': torch.tensor(Wout, dtype=torch.float32)\n",
    "    }\n",
    "    torch.save(weights, path)\n",
    "    print(f\"ESN weights saved to {path}\")\n",
    "\n",
    "def load_esn_weights(path=\"trained_esn.pt\"):\n",
    "    weights = torch.load(path)\n",
    "    A = weights['A'].numpy()\n",
    "    Win = weights['Win'].numpy()\n",
    "    Wout = weights['Wout'].numpy()\n",
    "    print(f\"ESN weights loaded from {path}\")\n",
    "    return A, Win, Wout"
   ]
  },
  {
   "cell_type": "code",
   "execution_count": null,
   "metadata": {},
   "outputs": [],
   "source": [
    "x, Wout, A, Win = train_reservoir(res_params, data, save_path=\"trained_esn.pt\")"
   ]
  },
  {
   "cell_type": "code",
   "execution_count": null,
   "metadata": {},
   "outputs": [],
   "source": [
    "%whos\n"
   ]
  },
  {
   "cell_type": "code",
   "execution_count": null,
   "metadata": {},
   "outputs": [],
   "source": [
    "# Run prediction starting from final reservoir state\n",
    "output, _ = predict(A, Win, res_params, x, Wout)\n",
    "\n",
    "# Optional: save predictions\n",
    "np.save(\"esn_prediction.npy\", output)\n",
    "print(\"Prediction shape:\", output.shape)  # Should be (8, predict_length)"
   ]
  },
  {
   "cell_type": "code",
   "execution_count": null,
   "metadata": {},
   "outputs": [],
   "source": [
    "import pandas as pd\n",
    "\n",
    "# Load from local directory\n",
    "df = pd.read_csv('./data/3tier_lorenz_v3.csv', header=None)\n",
    "print(\"Shape of the data:\", df.shape)\n"
   ]
  },
  {
   "cell_type": "markdown",
   "metadata": {},
   "source": [
    "### Hybrid ESN "
   ]
  },
  {
   "cell_type": "code",
   "execution_count": null,
   "metadata": {},
   "outputs": [],
   "source": []
  },
  {
   "cell_type": "markdown",
   "metadata": {},
   "source": [
    "### Ensemble Kalman Filtering"
   ]
  },
  {
   "cell_type": "code",
   "execution_count": null,
   "metadata": {},
   "outputs": [],
   "source": []
  },
  {
   "cell_type": "markdown",
   "metadata": {},
   "source": []
  },
  {
   "cell_type": "code",
   "execution_count": null,
   "metadata": {},
   "outputs": [],
   "source": []
  },
  {
   "cell_type": "markdown",
   "metadata": {},
   "source": [
    "### Evaluation Metrics"
   ]
  },
  {
   "cell_type": "code",
   "execution_count": null,
   "metadata": {},
   "outputs": [],
   "source": []
  }
 ],
 "metadata": {
  "kernelspec": {
   "display_name": "Python 3",
   "language": "python",
   "name": "python3"
  },
  "language_info": {
   "codemirror_mode": {
    "name": "ipython",
    "version": 3
   },
   "file_extension": ".py",
   "mimetype": "text/x-python",
   "name": "python",
   "nbconvert_exporter": "python",
   "pygments_lexer": "ipython3",
   "version": "3.12.2"
  }
 },
 "nbformat": 4,
 "nbformat_minor": 2
>>>>>>> 9f4680d35e0139c4dc2c321f083d44aa9116ca2f
}
