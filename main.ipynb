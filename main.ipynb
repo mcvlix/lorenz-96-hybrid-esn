{
 "cells": [
  {
   "cell_type": "markdown",
   "metadata": {},
   "source": [
    "## Implementation of Hybrid ESN for Lorenz 96"
   ]
  },
  {
   "cell_type": "markdown",
   "metadata": {},
   "source": [
    "### Libraries"
   ]
  },
  {
   "cell_type": "code",
   "execution_count": null,
   "metadata": {},
   "outputs": [],
   "source": [
    "# === Libraries ===\n",
    "import numpy as np\n",
    "import pandas as pd\n",
    "import torch\n",
    "from torchesn.nn import ESN\n",
    "from torchesn.nn import Reservoir\n",
    "from torchesn.utils import prepare_target\n",
    "import matplotlib.pyplot as plt\n",
    "from tqdm import tqdm\n",
    "from scipy.stats import linregress\n",
    "import scipy.sparse as sparse\n",
    "from pathlib import Path"
   ]
  },
  {
   "cell_type": "markdown",
   "metadata": {},
   "source": [
    "### Data "
   ]
  },
  {
   "cell_type": "code",
   "execution_count": null,
   "metadata": {},
   "outputs": [],
   "source": [
    "# data = np.load('./data/truth_h_0.5_c_8_F_20.npy')"
   ]
  },
  {
   "cell_type": "code",
   "execution_count": null,
   "metadata": {},
   "outputs": [],
   "source": [
    "X_data = np.load('./data/truth_h_0.5_c_8_F_20.npy')[:, :8]"
   ]
  },
  {
   "cell_type": "code",
   "execution_count": null,
   "metadata": {},
   "outputs": [],
   "source": [
    "data = X_data.T"
   ]
  },
  {
   "cell_type": "code",
   "execution_count": null,
   "metadata": {},
   "outputs": [],
   "source": [
    "# Slice 1000 steps (≈ 22 Lyapunov times)\n",
    "steps = 1000\n",
    "X_plot = X_data[:steps].T  # shape: (8, steps)\n",
    "\n",
    "# Create plot axes\n",
    "time_axis = np.linspace(0, 9, steps)\n",
    "space_axis = np.arange(8)\n",
    "\n",
    "# Plot contour\n",
    "fig, ax = plt.subplots(figsize=(14, 3))\n",
    "contour = ax.contourf(time_axis, space_axis, X_plot, levels=50, cmap='bwr', vmin=-2.5, vmax=2.5)\n",
    "\n",
    "# Labels\n",
    "ax.set_title(\"Spatiotemporal Contour of $X_{true}$ (~9 Lyapunov Times)\", fontsize=14)\n",
    "ax.set_xlabel(\"Timesteps\", fontsize=12)\n",
    "ax.set_ylabel(\"X\", fontsize=12)\n",
    "ax.set_yticks(np.arange(8))\n",
    "ax.set_yticklabels([f\"$X_{i}$\" for i in range(8)])\n",
    "\n",
    "# Colorbar with custom ticks\n",
    "cbar = fig.colorbar(contour, ax=ax)\n",
    "cbar.set_label(\"$X_{true}$\", fontsize=12)\n",
    "cbar.set_ticks([-2, 0, 2])\n",
    "\n",
    "plt.tight_layout()\n",
    "plt.show()\n"
   ]
  },
  {
   "cell_type": "markdown",
   "metadata": {},
   "source": [
    "### ESN"
   ]
  },
  {
   "cell_type": "code",
   "execution_count": null,
   "metadata": {},
   "outputs": [],
   "source": [
    "shift_k = 0\n",
    "\n",
    "approx_res_size = 5000\n",
    "\n",
    "\n",
    "model_params = {'tau': 0.25,\n",
    "                'nstep': 1000,\n",
    "                'N': 8,\n",
    "                'd': 22}\n",
    "\n",
    "res_params = {'radius':0.1,\n",
    "             'degree': 3,\n",
    "             'sigma': 0.5,\n",
    "             'train_length': 500000,\n",
    "             'N': int(np.floor(approx_res_size/model_params['N']) * model_params['N']),\n",
    "             'num_inputs': model_params['N'],\n",
    "             'predict_length': 10000,\n",
    "             'beta': 0.0001\n",
    "              }\n",
    "\n",
    "# The ESN functions for training\n",
    "def generate_reservoir(size,radius,degree):\n",
    "    sparsity = degree/float(size)\n",
    "    A = sparse.rand(size,size,density=sparsity).todense()\n",
    "    vals = np.linalg.eigvals(A)\n",
    "    e = np.max(np.abs(vals))\n",
    "    A = (A/e) * radius\n",
    "    return A\n",
    "\n",
    "def reservoir_layer(A, Win, input, res_params):\n",
    "    states = np.zeros((res_params['N'],res_params['train_length']))\n",
    "    for i in tqdm(range(res_params['train_length'] - 1), desc=\"Reservoir states\"):\n",
    "        states[:,i+1] = np.tanh(np.dot(A,states[:,i]) + np.dot(Win,input[:,i]))\n",
    "    return states\n",
    "\n",
    "\n",
    "def train_reservoir(res_params, data, save_path=None):\n",
    "    A = generate_reservoir(res_params['N'], res_params['radius'], res_params['degree'])\n",
    "    q = int(res_params['N'] / res_params['num_inputs'])\n",
    "    Win = np.zeros((res_params['N'], res_params['num_inputs']))\n",
    "\n",
    "    for i in range(res_params['num_inputs']):\n",
    "        np.random.seed(seed=i)\n",
    "        Win[i*q:(i+1)*q, i] = res_params['sigma'] * (-1 + 2 * np.random.rand(1, q)[0])\n",
    "\n",
    "    states = reservoir_layer(A, Win, data, res_params)\n",
    "    Wout = train(res_params, states, data)\n",
    "    x = states[:, -1]\n",
    "\n",
    "    if save_path:\n",
    "        save_esn_weights(A, Win, Wout, save_path)\n",
    "\n",
    "    return x, Wout, A, Win\n",
    "\n",
    "def train(res_params,states,data):\n",
    "    beta = res_params['beta']\n",
    "    idenmat = beta * sparse.identity(res_params['N'])\n",
    "    states2 = states.copy()\n",
    "    for j in range(2,np.shape(states2)[0]-2):\n",
    "        if (np.mod(j,2)==0):\n",
    "            states2[j,:] = (states[j-1,:]*states[j-2,:]).copy()\n",
    "    U = np.dot(states2,states2.transpose()) + idenmat\n",
    "    Uinv = np.linalg.inv(U)\n",
    "    Wout = np.dot(Uinv,np.dot(states2,data.transpose()))\n",
    "    return Wout.transpose()\n",
    "\n",
    "def predict(A, Win, res_params, x, Wout):\n",
    "    output = np.zeros((res_params['num_inputs'],res_params['predict_length']))\n",
    "    for i in range(res_params['predict_length']):\n",
    "        x_aug = x.copy()\n",
    "        for j in range(2,np.shape(x_aug)[0]-2):\n",
    "            if (np.mod(j,2)==0):\n",
    "                x_aug[j] = (x[j-1]*x[j-2]).copy()\n",
    "        out = np.squeeze(np.asarray(np.dot(Wout,x_aug)))\n",
    "        output[:,i] = out\n",
    "        x1 = np.tanh(np.dot(A,x) + np.dot(Win,out))\n",
    "        x = np.squeeze(np.asarray(x1))\n",
    "    return output, x\n",
    "\n",
    "def save_esn_weights(A, Win, Wout, path=\"trained_esn.pt\"):\n",
    "    weights = {\n",
    "        'A': torch.tensor(A, dtype=torch.float32),\n",
    "        'Win': torch.tensor(Win, dtype=torch.float32),\n",
    "        'Wout': torch.tensor(Wout, dtype=torch.float32)\n",
    "    }\n",
    "    torch.save(weights, path)\n",
    "    print(f\"ESN weights saved to {path}\")\n",
    "\n",
    "def load_esn_weights(path=\"trained_esn.pt\"):\n",
    "    weights = torch.load(path)\n",
    "    A = weights['A'].numpy()\n",
    "    Win = weights['Win'].numpy()\n",
    "    Wout = weights['Wout'].numpy()\n",
    "    print(f\"ESN weights loaded from {path}\")\n",
    "    return A, Win, Wout"
   ]
  },
  {
   "cell_type": "code",
   "execution_count": null,
   "metadata": {},
   "outputs": [],
   "source": [
    "x, Wout, A, Win = train_reservoir(res_params, data, save_path=\"trained_esn.pt\")"
   ]
  },
  {
   "cell_type": "code",
   "execution_count": null,
   "metadata": {},
   "outputs": [],
   "source": [
    "%whos\n"
   ]
  },
  {
   "cell_type": "code",
   "execution_count": null,
   "metadata": {},
   "outputs": [],
   "source": [
    "# Run prediction starting from final reservoir state\n",
    "output, _ = predict(A, Win, res_params, x, Wout)\n",
    "\n",
    "# Optional: save predictions\n",
    "np.save(\"esn_prediction.npy\", output)\n",
    "print(\"Prediction shape:\", output.shape)  # Should be (8, predict_length)"
   ]
  },
  {
   "cell_type": "code",
   "execution_count": null,
   "metadata": {},
   "outputs": [],
   "source": [
    "import pandas as pd\n",
    "\n",
    "# Load from local directory\n",
    "df = pd.read_csv('./data/3tier_lorenz_v3.csv', header=None)\n",
    "print(\"Shape of the data:\", df.shape)\n"
   ]
  },
  {
   "cell_type": "markdown",
   "metadata": {},
   "source": [
    "### Hybrid ESN "
   ]
  },
  {
   "cell_type": "code",
   "execution_count": null,
   "metadata": {},
   "outputs": [],
   "source": []
  },
  {
   "cell_type": "markdown",
   "metadata": {},
   "source": [
    "### Ensemble Kalman Filtering"
   ]
  },
  {
   "cell_type": "code",
   "execution_count": null,
   "metadata": {},
   "outputs": [],
   "source": []
  },
  {
   "cell_type": "markdown",
   "metadata": {},
   "source": []
  },
  {
   "cell_type": "code",
   "execution_count": null,
   "metadata": {},
   "outputs": [],
   "source": []
  },
  {
   "cell_type": "markdown",
   "metadata": {},
   "source": [
    "### Evaluation Metrics"
   ]
  },
  {
   "cell_type": "code",
   "execution_count": null,
   "metadata": {},
   "outputs": [],
   "source": []
  }
 ],
 "metadata": {
  "kernelspec": {
   "display_name": "Python 3",
   "language": "python",
   "name": "python3"
  },
  "language_info": {
   "codemirror_mode": {
    "name": "ipython",
    "version": 3
   },
   "file_extension": ".py",
   "mimetype": "text/x-python",
   "name": "python",
   "nbconvert_exporter": "python",
   "pygments_lexer": "ipython3",
   "version": "3.12.2"
  }
 },
 "nbformat": 4,
 "nbformat_minor": 2
}
