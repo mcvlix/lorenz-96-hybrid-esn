{
  "cells": [
    {
      "cell_type": "markdown",
      "metadata": {
        "id": "9GVG9Ukq60rF"
      },
      "source": [
        "## Implementation of Hybrid ESN for Lorenz 96"
      ]
    },
    {
      "cell_type": "code",
      "execution_count": null,
      "metadata": {
        "id": "JTgzE0fg60rG"
      },
      "outputs": [],
      "source": [
        "import pandas as pd\n",
        "import numpy as np\n",
        "from sklearn.model_selection import GridSearchCV\n"
      ]
    },
    {
      "cell_type": "markdown",
      "metadata": {
        "id": "Yy3rTEv460rG"
      },
      "source": [
        "### Data Generation and Noising"
      ]
    },
    {
      "cell_type": "code",
      "execution_count": null,
      "metadata": {
        "id": "O3vIG1i860rG"
      },
      "outputs": [],
      "source": []
    },
    {
      "cell_type": "markdown",
      "metadata": {
        "id": "I072A3Dd60rG"
      },
      "source": [
        "### Ensemble Kalman Filtering"
      ]
    },
    {
      "cell_type": "code",
      "execution_count": null,
      "metadata": {
        "id": "kVcokRtN60rG"
      },
      "outputs": [],
      "source": [
        "import numpy as np\n",
        "\n",
        "class EnKF:\n",
        "    def __init__(self, ensemble, forecast_func, H, R):\n",
        "        \"\"\"\n",
        "        Ensemble Kalman Filter implementation based on a forecast model.\n",
        "\n",
        "        Parameters:\n",
        "        - ensemble: numpy array of shape (N_ens, state_dim)\n",
        "        - forecast_func: function to forecast next state (applied to each ensemble member)\n",
        "        - H: observation matrix (obs_dim x state_dim)\n",
        "        - R: observation noise covariance (obs_dim x obs_dim)\n",
        "        \"\"\"\n",
        "        self.ensemble = ensemble\n",
        "        self.forecast_func = forecast_func\n",
        "        self.H = H\n",
        "        self.R = R\n",
        "        self.xEnKF = []\n",
        "        self.x_ens = []\n",
        "\n",
        "    def predict(self):\n",
        "        \"\"\"\n",
        "        Propagates each ensemble member forward one step using the forecast function.\n",
        "\n",
        "        Parameters:\n",
        "        - None\n",
        "\n",
        "        Returns:\n",
        "        - None (updates self.ensemble in place)\n",
        "        \"\"\"\n",
        "        for i in range(len(self.ensemble)):\n",
        "            self.ensemble[i] = self.forecast_func(self.ensemble[i])\n",
        "\n",
        "    def update(self, observation):\n",
        "        \"\"\"\n",
        "        Applies the Kalman filter update step using the current observation.\n",
        "\n",
        "        Parameters:\n",
        "        - observation: numpy array of shape (obs_dim,), the current observed value\n",
        "\n",
        "        Returns:\n",
        "        - None (updates self.ensemble in place, and stores the ensemble mean and members)\n",
        "        \"\"\"\n",
        "        N = len(self.ensemble)\n",
        "        X = np.array(self.ensemble).T  # shape: (state_dim, N)\n",
        "        x_mean = np.mean(X, axis=1, keepdims=True)\n",
        "        X_prime = X - x_mean\n",
        "\n",
        "        # Observation space\n",
        "        HX = self.H @ X\n",
        "        y_mean = np.mean(HX, axis=1, keepdims=True)\n",
        "        Y_prime = HX - y_mean\n",
        "\n",
        "        # Kalman gain\n",
        "        P_xy = X_prime @ Y_prime.T / (N - 1)\n",
        "        P_yy = Y_prime @ Y_prime.T / (N - 1) + self.R\n",
        "        K = P_xy @ np.linalg.inv(P_yy)\n",
        "\n",
        "        # Update ensemble\n",
        "        for i in range(N):\n",
        "            perturb = np.random.multivariate_normal(np.zeros(self.R.shape[0]), self.R)\n",
        "            innovation = observation + perturb - HX[:, i]\n",
        "            X[:, i] = X[:, i] + K @ innovation\n",
        "\n",
        "        self.ensemble = X.T\n",
        "        self.xEnKF.append(np.mean(self.ensemble, axis=0))\n",
        "        self.x_ens.append(np.copy(self.ensemble))\n",
        "\n",
        "    def get_results(self):\n",
        "        \"\"\"\n",
        "        Retrieves the stored ensemble mean trajectory and full ensemble trajectories.\n",
        "\n",
        "        Parameters:\n",
        "        - None\n",
        "\n",
        "        Returns:\n",
        "        - xEnKF: numpy array of shape (timesteps, state_dim), ensemble mean at each timestep\n",
        "        - x_ens: numpy array of shape (timesteps, N_ens, state_dim), ensemble members at each timestep\n",
        "        \"\"\"\n",
        "        return np.array(self.xEnKF), np.array(self.x_ens)"
      ]
    },
    {
      "cell_type": "markdown",
      "metadata": {
        "id": "aM5gNmw460rG"
      },
      "source": [
        "### Hybrid ESN"
      ]
    },
    {
      "cell_type": "markdown",
      "metadata": {
        "id": "pUnv1f5q60rG"
      },
      "source": []
    },
    {
      "cell_type": "code",
      "execution_count": null,
      "metadata": {
        "id": "-TjUJjy260rG"
      },
      "outputs": [],
      "source": []
    },
    {
      "cell_type": "markdown",
      "metadata": {
        "id": "3ud8bFcv60rH"
      },
      "source": [
        "### Evaluation Metrics"
      ]
    },
    {
      "cell_type": "code",
      "execution_count": null,
      "metadata": {
        "id": "J1BlAnMM60rH"
      },
      "outputs": [],
      "source": []
    }
  ],
  "metadata": {
    "kernelspec": {
      "display_name": "Python 3",
      "language": "python",
      "name": "python3"
    },
    "language_info": {
      "name": "python",
      "version": "3.13.3"
    },
    "colab": {
      "provenance": []
    }
  },
  "nbformat": 4,
  "nbformat_minor": 0
}