{
  "nbformat": 4,
  "nbformat_minor": 0,
  "metadata": {
    "colab": {
      "provenance": [],
      "authorship_tag": "ABX9TyMP09Ss+Dme7Gl+UxGbOtZE",
      "include_colab_link": true
    },
    "kernelspec": {
      "name": "python3",
      "display_name": "Python 3"
    },
    "language_info": {
      "name": "python"
    }
  },
  "cells": [
    {
      "cell_type": "markdown",
      "metadata": {
        "id": "view-in-github",
        "colab_type": "text"
      },
      "source": [
        "<a href=\"https://colab.research.google.com/github/mcvlix/lorenz-96-hybrid-esn/blob/main/hybrid_rcesn.ipynb\" target=\"_parent\"><img src=\"https://colab.research.google.com/assets/colab-badge.svg\" alt=\"Open In Colab\"/></a>"
      ]
    },
    {
      "cell_type": "markdown",
      "source": [
        "### Train Hybrid RC-ESN"
      ],
      "metadata": {
        "id": "YdJZNSL8N-En"
      }
    },
    {
      "cell_type": "code",
      "execution_count": null,
      "metadata": {
        "id": "V0-_FCkQN31n"
      },
      "outputs": [],
      "source": []
    },
    {
      "cell_type": "markdown",
      "source": [
        "### Imperfect Model"
      ],
      "metadata": {
        "id": "fUwHaT0hOBld"
      }
    },
    {
      "cell_type": "markdown",
      "source": [
        "### Reservoir Only"
      ],
      "metadata": {
        "id": "EGrQaudnOD9y"
      }
    }
  ]
}